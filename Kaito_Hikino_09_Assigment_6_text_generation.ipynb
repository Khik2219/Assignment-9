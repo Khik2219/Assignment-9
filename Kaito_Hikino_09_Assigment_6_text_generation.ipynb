{
  "nbformat": 4,
  "nbformat_minor": 0,
  "metadata": {
    "colab": {
      "provenance": [],
      "gpuType": "T4",
      "include_colab_link": true
    },
    "kernelspec": {
      "name": "python3",
      "display_name": "Python 3"
    },
    "language_info": {
      "name": "python"
    },
    "accelerator": "GPU"
  },
  "cells": [
    {
      "cell_type": "markdown",
      "metadata": {
        "id": "view-in-github",
        "colab_type": "text"
      },
      "source": [
        "<a href=\"https://colab.research.google.com/github/Khik2219/Assignment-9/blob/main/Kaito_Hikino_09_Assigment_6_text_generation.ipynb\" target=\"_parent\"><img src=\"https://colab.research.google.com/assets/colab-badge.svg\" alt=\"Open In Colab\"/></a>"
      ]
    },
    {
      "cell_type": "markdown",
      "source": [
        "# Copyright\n",
        "\n",
        "<PRE>\n",
        "Copyright (c) Bálint Gyires-Tóth - All Rights Reserved\n",
        "You may use and modify this code for research and development purpuses.\n",
        "Using this code for educational purposes (self-paced or instructor led) without the permission of the author is prohibited.\n",
        "</PRE>"
      ],
      "metadata": {
        "id": "CtuSrazlNYEL"
      }
    },
    {
      "cell_type": "markdown",
      "source": [
        "# Assignment: RNN text generation with your favorite book\n"
      ],
      "metadata": {
        "id": "vriXNd_nL2q6"
      }
    },
    {
      "cell_type": "markdown",
      "source": [
        "## 1. Dataset\n",
        "- Download your favorite book from https://www.gutenberg.org/\n",
        "- Split into training (80%) and validation (20%)."
      ],
      "metadata": {
        "id": "Q5atve1sMH9n"
      }
    },
    {
      "cell_type": "code",
      "source": [
        "import requests, re, numpy as np, random, math\n",
        "from sklearn.model_selection import train_test_split\n",
        "gutenberg_id = 84\n",
        "text = requests.get(f\"https://www.gutenberg.org/files/{gutenberg_id}/{gutenberg_id}-0.txt\").text\n",
        "split_idx = int(len(text) * 0.8)\n",
        "train_text = text[:split_idx]\n",
        "val_text   = text[split_idx:]\n",
        "\n",
        "print(\"Train length:\", len(train_text), \"characters\")\n",
        "print(\"Val length:\", len(val_text), \"characters\")"
      ],
      "metadata": {
        "id": "QvKdt5EyMDug",
        "colab": {
          "base_uri": "https://localhost:8080/"
        },
        "outputId": "f37d61b0-74c3-4ffe-cad0-811993451f3b"
      },
      "execution_count": 10,
      "outputs": [
        {
          "output_type": "stream",
          "name": "stdout",
          "text": [
            "Train length: 341436 characters\n",
            "Val length: 85360 characters\n"
          ]
        }
      ]
    },
    {
      "cell_type": "markdown",
      "source": [
        "## 2. Preprocessing\n",
        "- Convert text to lowercase.  \n",
        "- Remove punctuation (except basic sentence delimiters).  \n",
        "- Tokenize by words or characters (your choice).  \n",
        "- Build a vocabulary (map each unique word to an integer ID)."
      ],
      "metadata": {
        "id": "4eQMcyPgMLJ9"
      }
    },
    {
      "cell_type": "code",
      "source": [
        "train_text = train_text.lower()\n",
        "val_text = val_text.lower()\n",
        "train_text = re.sub(r\"[^\\w\\s\\.\\!\\?]\", \" \", train_text)\n",
        "val_text   = re.sub(r\"[^\\w\\s\\.\\!\\?]\", \" \", val_text)\n",
        "train_text = re.sub(r\"\\s+\", \" \", train_text).strip()\n",
        "val_text   = re.sub(r\"\\s+\", \" \", val_text).strip()\n",
        "train_words = train_text.split()\n",
        "val_words   = val_text.split()\n",
        "\n",
        "unique = sorted(set(train_words))\n",
        "index = {word: idx for idx, word in enumerate(unique)}\n",
        "word = np.array(unique)\n",
        "vocab_size = len(unique)\n",
        "print(\"Vocabulary size:\", vocab_size)"
      ],
      "metadata": {
        "id": "RvXRFVcbMLe9",
        "colab": {
          "base_uri": "https://localhost:8080/"
        },
        "outputId": "a3db2170-8496-48aa-b51e-5a7ce6372afc"
      },
      "execution_count": 11,
      "outputs": [
        {
          "output_type": "stream",
          "name": "stdout",
          "text": [
            "Vocabulary size: 7657\n"
          ]
        }
      ]
    },
    {
      "cell_type": "markdown",
      "source": [
        "## 3. Embedding Layer in Keras\n",
        "Below is a minimal example of defining an `Embedding` layer:\n",
        "```python\n",
        "from tensorflow.keras.layers import Embedding\n",
        "\n",
        "embedding_layer = Embedding(\n",
        "    input_dim=vocab_size,     # size of the vocabulary\n",
        "    output_dim=128,           # embedding vector dimension\n",
        "    input_length=sequence_length\n",
        ")\n",
        "```\n",
        "- This layer transforms integer-encoded sequences (word IDs) into dense vector embeddings.\n",
        "\n",
        "- Feed these embeddings into your LSTM or GRU OR 1D CNN layer."
      ],
      "metadata": {
        "id": "jbTZs3OiMMNy"
      }
    },
    {
      "cell_type": "code",
      "source": [
        "from tensorflow.keras import layers, models\n",
        "from tensorflow.keras.layers import Embedding\n",
        "\n",
        "embedding_layer = Embedding(\n",
        "    input_dim=vocab_size,\n",
        "    output_dim=256,\n",
        "    input_length=40\n",
        ")\n",
        "\n",
        "model = models.Sequential([\n",
        "    embedding_layer,\n",
        "    layers.LSTM(512, return_sequences=True, dropout=0.2),\n",
        "    layers.LSTM(512, dropout=0.2),\n",
        "    layers.Dense(vocab_size, activation=\"softmax\")\n",
        "])\n",
        "model.compile(\n",
        "    loss=\"sparse_categorical_crossentropy\",\n",
        "    optimizer=\"adam\",\n",
        "    metrics=[\"sparse_categorical_accuracy\"]\n",
        ")\n",
        "model.summary()\n"
      ],
      "metadata": {
        "id": "OXCK40l6MRld",
        "colab": {
          "base_uri": "https://localhost:8080/",
          "height": 259
        },
        "outputId": "ea1e79de-1108-4b51-a5e3-8f33eb2e01fc"
      },
      "execution_count": 20,
      "outputs": [
        {
          "output_type": "display_data",
          "data": {
            "text/plain": [
              "\u001b[1mModel: \"sequential_6\"\u001b[0m\n"
            ],
            "text/html": [
              "<pre style=\"white-space:pre;overflow-x:auto;line-height:normal;font-family:Menlo,'DejaVu Sans Mono',consolas,'Courier New',monospace\"><span style=\"font-weight: bold\">Model: \"sequential_6\"</span>\n",
              "</pre>\n"
            ]
          },
          "metadata": {}
        },
        {
          "output_type": "display_data",
          "data": {
            "text/plain": [
              "┏━━━━━━━━━━━━━━━━━━━━━━━━━━━━━━━━━┳━━━━━━━━━━━━━━━━━━━━━━━━┳━━━━━━━━━━━━━━━┓\n",
              "┃\u001b[1m \u001b[0m\u001b[1mLayer (type)                   \u001b[0m\u001b[1m \u001b[0m┃\u001b[1m \u001b[0m\u001b[1mOutput Shape          \u001b[0m\u001b[1m \u001b[0m┃\u001b[1m \u001b[0m\u001b[1m      Param #\u001b[0m\u001b[1m \u001b[0m┃\n",
              "┡━━━━━━━━━━━━━━━━━━━━━━━━━━━━━━━━━╇━━━━━━━━━━━━━━━━━━━━━━━━╇━━━━━━━━━━━━━━━┩\n",
              "│ embedding_6 (\u001b[38;5;33mEmbedding\u001b[0m)         │ ?                      │   \u001b[38;5;34m0\u001b[0m (unbuilt) │\n",
              "├─────────────────────────────────┼────────────────────────┼───────────────┤\n",
              "│ lstm_12 (\u001b[38;5;33mLSTM\u001b[0m)                  │ ?                      │   \u001b[38;5;34m0\u001b[0m (unbuilt) │\n",
              "├─────────────────────────────────┼────────────────────────┼───────────────┤\n",
              "│ lstm_13 (\u001b[38;5;33mLSTM\u001b[0m)                  │ ?                      │   \u001b[38;5;34m0\u001b[0m (unbuilt) │\n",
              "├─────────────────────────────────┼────────────────────────┼───────────────┤\n",
              "│ dense_6 (\u001b[38;5;33mDense\u001b[0m)                 │ ?                      │   \u001b[38;5;34m0\u001b[0m (unbuilt) │\n",
              "└─────────────────────────────────┴────────────────────────┴───────────────┘\n"
            ],
            "text/html": [
              "<pre style=\"white-space:pre;overflow-x:auto;line-height:normal;font-family:Menlo,'DejaVu Sans Mono',consolas,'Courier New',monospace\">┏━━━━━━━━━━━━━━━━━━━━━━━━━━━━━━━━━┳━━━━━━━━━━━━━━━━━━━━━━━━┳━━━━━━━━━━━━━━━┓\n",
              "┃<span style=\"font-weight: bold\"> Layer (type)                    </span>┃<span style=\"font-weight: bold\"> Output Shape           </span>┃<span style=\"font-weight: bold\">       Param # </span>┃\n",
              "┡━━━━━━━━━━━━━━━━━━━━━━━━━━━━━━━━━╇━━━━━━━━━━━━━━━━━━━━━━━━╇━━━━━━━━━━━━━━━┩\n",
              "│ embedding_6 (<span style=\"color: #0087ff; text-decoration-color: #0087ff\">Embedding</span>)         │ ?                      │   <span style=\"color: #00af00; text-decoration-color: #00af00\">0</span> (unbuilt) │\n",
              "├─────────────────────────────────┼────────────────────────┼───────────────┤\n",
              "│ lstm_12 (<span style=\"color: #0087ff; text-decoration-color: #0087ff\">LSTM</span>)                  │ ?                      │   <span style=\"color: #00af00; text-decoration-color: #00af00\">0</span> (unbuilt) │\n",
              "├─────────────────────────────────┼────────────────────────┼───────────────┤\n",
              "│ lstm_13 (<span style=\"color: #0087ff; text-decoration-color: #0087ff\">LSTM</span>)                  │ ?                      │   <span style=\"color: #00af00; text-decoration-color: #00af00\">0</span> (unbuilt) │\n",
              "├─────────────────────────────────┼────────────────────────┼───────────────┤\n",
              "│ dense_6 (<span style=\"color: #0087ff; text-decoration-color: #0087ff\">Dense</span>)                 │ ?                      │   <span style=\"color: #00af00; text-decoration-color: #00af00\">0</span> (unbuilt) │\n",
              "└─────────────────────────────────┴────────────────────────┴───────────────┘\n",
              "</pre>\n"
            ]
          },
          "metadata": {}
        },
        {
          "output_type": "display_data",
          "data": {
            "text/plain": [
              "\u001b[1m Total params: \u001b[0m\u001b[38;5;34m0\u001b[0m (0.00 B)\n"
            ],
            "text/html": [
              "<pre style=\"white-space:pre;overflow-x:auto;line-height:normal;font-family:Menlo,'DejaVu Sans Mono',consolas,'Courier New',monospace\"><span style=\"font-weight: bold\"> Total params: </span><span style=\"color: #00af00; text-decoration-color: #00af00\">0</span> (0.00 B)\n",
              "</pre>\n"
            ]
          },
          "metadata": {}
        },
        {
          "output_type": "display_data",
          "data": {
            "text/plain": [
              "\u001b[1m Trainable params: \u001b[0m\u001b[38;5;34m0\u001b[0m (0.00 B)\n"
            ],
            "text/html": [
              "<pre style=\"white-space:pre;overflow-x:auto;line-height:normal;font-family:Menlo,'DejaVu Sans Mono',consolas,'Courier New',monospace\"><span style=\"font-weight: bold\"> Trainable params: </span><span style=\"color: #00af00; text-decoration-color: #00af00\">0</span> (0.00 B)\n",
              "</pre>\n"
            ]
          },
          "metadata": {}
        },
        {
          "output_type": "display_data",
          "data": {
            "text/plain": [
              "\u001b[1m Non-trainable params: \u001b[0m\u001b[38;5;34m0\u001b[0m (0.00 B)\n"
            ],
            "text/html": [
              "<pre style=\"white-space:pre;overflow-x:auto;line-height:normal;font-family:Menlo,'DejaVu Sans Mono',consolas,'Courier New',monospace\"><span style=\"font-weight: bold\"> Non-trainable params: </span><span style=\"color: #00af00; text-decoration-color: #00af00\">0</span> (0.00 B)\n",
              "</pre>\n"
            ]
          },
          "metadata": {}
        }
      ]
    },
    {
      "cell_type": "markdown",
      "source": [
        "## 4. Model\n",
        "- Implement an LSTM or GRU or 1D CNN-based language model with:\n",
        "  - **The Embedding layer** as input.\n",
        "  - At least **one recurrent layer** (e.g., `LSTM(256)` or `GRU(256)` or your custom 1D CNN).\n",
        "  - A **Dense** output layer with **softmax** activation for word prediction.\n",
        "- Train for about **5–10 epochs** so it can finish in approximately **2 hours** on a standard machine.\n"
      ],
      "metadata": {
        "id": "qsXR4RZpMXMi"
      }
    },
    {
      "cell_type": "code",
      "source": [
        "import math, matplotlib.pyplot as plt\n",
        "train_ids = [index[word] for word in train_words]\n",
        "val_ids   = [index.get(word, 0) for word in val_words]\n",
        "sequence_length = 40\n",
        "X_train = []\n",
        "y_train = []\n",
        "for i in range(len(train_ids) - sequence_length):\n",
        "    X_train.append(train_ids[i : i + sequence_length])\n",
        "    y_train.append(train_ids[i + sequence_length])\n",
        "X_val = []\n",
        "y_val = []\n",
        "for i in range(len(val_ids) - sequence_length):\n",
        "    X_val.append(val_ids[i : i + sequence_length])\n",
        "    y_val.append(val_ids[i + sequence_length])\n",
        "X_train = np.array(X_train)\n",
        "y_train = np.array(y_train)\n",
        "X_val   = np.array(X_val)\n",
        "y_val   = np.array(y_val)\n",
        "\n",
        "print(\"Training shape:\", X_train.shape)\n",
        "print(\"Validation shape:\", X_val.shape)\n",
        "\n",
        "history = model.fit(X_train, y_train,validation_data=(X_val, y_val),batch_size=256,epochs=6)\n",
        "\n",
        "train_perp = [math.exp(l) for l in history.history['loss']]\n",
        "val_perp   = [math.exp(l) for l in history.history['val_loss']]\n",
        "plt.figure()\n",
        "plt.plot(train_perp, label='train')\n",
        "plt.plot(val_perp, label='validation')\n",
        "plt.xlabel('Epoch'); plt.ylabel('Perplexity'); plt.legend(); plt.show()\n",
        "print(f\"\\nFinal validation perplexity: {val_perp[-1]:.2f}\")"
      ],
      "metadata": {
        "id": "linweGaUMg0T",
        "colab": {
          "base_uri": "https://localhost:8080/",
          "height": 732
        },
        "outputId": "685050c5-c064-405e-f87f-2331d95af80d"
      },
      "execution_count": 21,
      "outputs": [
        {
          "output_type": "stream",
          "name": "stdout",
          "text": [
            "Training shape: (60101, 40)\n",
            "Validation shape: (15212, 40)\n",
            "Epoch 1/6\n",
            "\u001b[1m235/235\u001b[0m \u001b[32m━━━━━━━━━━━━━━━━━━━━\u001b[0m\u001b[37m\u001b[0m \u001b[1m26s\u001b[0m 98ms/step - loss: 7.3237 - sparse_categorical_accuracy: 0.0500 - val_loss: 6.3960 - val_sparse_categorical_accuracy: 0.0619\n",
            "Epoch 2/6\n",
            "\u001b[1m235/235\u001b[0m \u001b[32m━━━━━━━━━━━━━━━━━━━━\u001b[0m\u001b[37m\u001b[0m \u001b[1m22s\u001b[0m 93ms/step - loss: 6.4297 - sparse_categorical_accuracy: 0.0756 - val_loss: 6.1725 - val_sparse_categorical_accuracy: 0.0801\n",
            "Epoch 3/6\n",
            "\u001b[1m235/235\u001b[0m \u001b[32m━━━━━━━━━━━━━━━━━━━━\u001b[0m\u001b[37m\u001b[0m \u001b[1m40s\u001b[0m 91ms/step - loss: 6.0911 - sparse_categorical_accuracy: 0.0933 - val_loss: 6.0650 - val_sparse_categorical_accuracy: 0.1024\n",
            "Epoch 4/6\n",
            "\u001b[1m235/235\u001b[0m \u001b[32m━━━━━━━━━━━━━━━━━━━━\u001b[0m\u001b[37m\u001b[0m \u001b[1m43s\u001b[0m 98ms/step - loss: 5.8415 - sparse_categorical_accuracy: 0.1202 - val_loss: 5.9691 - val_sparse_categorical_accuracy: 0.1091\n",
            "Epoch 5/6\n",
            "\u001b[1m235/235\u001b[0m \u001b[32m━━━━━━━━━━━━━━━━━━━━\u001b[0m\u001b[37m\u001b[0m \u001b[1m22s\u001b[0m 96ms/step - loss: 5.6502 - sparse_categorical_accuracy: 0.1302 - val_loss: 5.9454 - val_sparse_categorical_accuracy: 0.1159\n",
            "Epoch 6/6\n",
            "\u001b[1m235/235\u001b[0m \u001b[32m━━━━━━━━━━━━━━━━━━━━\u001b[0m\u001b[37m\u001b[0m \u001b[1m40s\u001b[0m 91ms/step - loss: 5.4671 - sparse_categorical_accuracy: 0.1417 - val_loss: 5.9773 - val_sparse_categorical_accuracy: 0.1124\n"
          ]
        },
        {
          "output_type": "display_data",
          "data": {
            "text/plain": [
              "<Figure size 640x480 with 1 Axes>"
            ],
            "image/png": "[encoded data removed]"
          },
          "metadata": {}
        },
        {
          "output_type": "stream",
          "name": "stdout",
          "text": [
            "\n",
            "Final validation perplexity: 394.39\n"
          ]
        }
      ]
    },
    {
      "cell_type": "markdown",
      "source": [
        "## 5. Training & Evaluation\n",
        "- **Monitor** the loss on both training and validation sets.\n",
        "- **Perplexity**: a common metric for language models.\n",
        "  - It is the exponent of the average negative log-likelihood.\n",
        "  - If your model outputs cross-entropy loss `H`, then `perplexity = e^H`.\n",
        "  - Try to keep the validation perplexity **under 50** if possible. If you have higher value (which is possible) try to draw conclusions, why doesn't it decrease to a lower value."
      ],
      "metadata": {
        "id": "Ggop4h4IMhMT"
      }
    },
    {
      "cell_type": "code",
      "source": [
        "#This is done in above cell\n",
        "#The data may not be big enough to reduce perplexity under 50."
      ],
      "metadata": {
        "id": "P8d8FS2XMj46"
      },
      "execution_count": 5,
      "outputs": []
    },
    {
      "cell_type": "markdown",
      "source": [
        "## 6. Generation Criteria\n",
        "- After training, generate **two distinct text samples**, each at least **50 tokens**.\n",
        "- Use **different seed phrases** (e.g., “love is” vs. “time will”)."
      ],
      "metadata": {
        "id": "cbvbBOp3MfTD"
      }
    },
    {
      "cell_type": "code",
      "source": [
        "import numpy as np\n",
        "\n",
        "seed = \"The man\"\n",
        "num_words = 50\n",
        "seed_words = seed.lower().split()\n",
        "seed_ids = [index.get(word, 0) for word in seed_words]\n",
        "generated = seed_words.copy()\n",
        "\n",
        "for _ in range(num_words):\n",
        "    input_ids = seed_ids[-sequence_length:]\n",
        "    if len(input_ids) < sequence_length:\n",
        "        input_ids = [0] * (sequence_length - len(input_ids)) + input_ids\n",
        "    input_array = np.array(input_ids).reshape(1, -1)\n",
        "    predictions = model.predict(input_array, verbose=0)[0]\n",
        "    next_id = np.argmax(predictions)\n",
        "    next_word = word[next_id]\n",
        "    generated.append(next_word)\n",
        "    seed_ids.append(next_id)\n",
        "print(\" \".join(generated))\n"
      ],
      "metadata": {
        "id": "1uHjn6aHMW5K",
        "colab": {
          "base_uri": "https://localhost:8080/"
        },
        "outputId": "3311f3e8-acda-43bc-91d5-bcaf35d28525"
      },
      "execution_count": 6,
      "outputs": [
        {
          "output_type": "stream",
          "name": "stdout",
          "text": [
            "the man is not to be a few minutes in the same time i had been to be a few minutes in the same voice which i had been to be a few minutes in the same voice which i had been to be a few minutes in the same voice which\n"
          ]
        }
      ]
    },
    {
      "cell_type": "code",
      "source": [
        "seed = \"He spoke\"\n",
        "num_words = 50\n",
        "seed_words = seed.lower().split()\n",
        "seed_ids = [index.get(word, 0) for word in seed_words]\n",
        "generated = seed_words.copy()\n",
        "\n",
        "for _ in range(num_words):\n",
        "    input_ids = seed_ids[-sequence_length:]\n",
        "    if len(input_ids) < sequence_length:\n",
        "        input_ids = [0] * (sequence_length - len(input_ids)) + input_ids\n",
        "    input_array = np.array(input_ids).reshape(1, -1)\n",
        "    predictions = model.predict(input_array, verbose=0)[0]\n",
        "    next_id = np.argmax(predictions)\n",
        "    next_word = word[next_id]\n",
        "    generated.append(next_word)\n",
        "    seed_ids.append(next_id)\n",
        "print(\" \".join(generated))"
      ],
      "metadata": {
        "id": "n5CpdqF9MoPj",
        "colab": {
          "base_uri": "https://localhost:8080/"
        },
        "outputId": "ec89ea05-38ed-45c1-decd-f0cbdff71f60"
      },
      "execution_count": 7,
      "outputs": [
        {
          "output_type": "stream",
          "name": "stdout",
          "text": [
            "he spoke in the same time i had not been a few minutes in the same time i had been to be a few minutes in the same voice which i had been to be a few minutes in the same voice which i had been to be a few minutes in\n"
          ]
        }
      ]
    }
  ]
}